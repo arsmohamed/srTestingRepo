{
 "cells": [
  {
   "cell_type": "code",
   "execution_count": 2,
   "metadata": {},
   "outputs": [],
   "source": [
    "import speech_recognition as sr\n",
    "import pyttsx3\n",
    "\n",
    "r = sr.Recognizer()\n",
    "\n",
    "def SpeakText(command):\n",
    "    engine = pyttsx3.init()\n",
    "    engine.say(command)\n",
    "    engine.runAndWait()"
   ]
  },
  {
   "cell_type": "code",
   "execution_count": 4,
   "metadata": {},
   "outputs": [
    {
     "ename": "UnknownValueError",
     "evalue": "",
     "output_type": "error",
     "traceback": [
      "\u001b[1;31m---------------------------------------------------------------------------\u001b[0m",
      "\u001b[1;31mUnknownValueError\u001b[0m                         Traceback (most recent call last)",
      "\u001b[1;32mf:\\projects\\PySpeechText\\speechRecognition.ipynb Cell 2'\u001b[0m in \u001b[0;36m<module>\u001b[1;34m\u001b[0m\n\u001b[0;32m      <a href='vscode-notebook-cell:/f%3A/projects/PySpeechText/speechRecognition.ipynb#ch0000010?line=1'>2</a>\u001b[0m r\u001b[39m.\u001b[39madjust_for_ambient_noise(source2, duration\u001b[39m=\u001b[39m\u001b[39m0.2\u001b[39m)\n\u001b[0;32m      <a href='vscode-notebook-cell:/f%3A/projects/PySpeechText/speechRecognition.ipynb#ch0000010?line=2'>3</a>\u001b[0m audio2 \u001b[39m=\u001b[39m r\u001b[39m.\u001b[39mlisten(source2)\n\u001b[1;32m----> <a href='vscode-notebook-cell:/f%3A/projects/PySpeechText/speechRecognition.ipynb#ch0000010?line=3'>4</a>\u001b[0m MyText \u001b[39m=\u001b[39m r\u001b[39m.\u001b[39;49mrecognize_google(audio2)\n\u001b[0;32m      <a href='vscode-notebook-cell:/f%3A/projects/PySpeechText/speechRecognition.ipynb#ch0000010?line=4'>5</a>\u001b[0m MyText \u001b[39m=\u001b[39m MyText\u001b[39m.\u001b[39mlower()\n\u001b[0;32m      <a href='vscode-notebook-cell:/f%3A/projects/PySpeechText/speechRecognition.ipynb#ch0000010?line=6'>7</a>\u001b[0m \u001b[39mprint\u001b[39m(\u001b[39m\"\u001b[39m\u001b[39m Did you say \u001b[39m\u001b[39m\"\u001b[39m \u001b[39m+\u001b[39m MyText)\n",
      "File \u001b[1;32m~\\AppData\\Local\\Programs\\Python\\Python310\\lib\\site-packages\\speech_recognition\\__init__.py:858\u001b[0m, in \u001b[0;36mRecognizer.recognize_google\u001b[1;34m(self, audio_data, key, language, show_all)\u001b[0m\n\u001b[0;32m    <a href='file:///~/AppData/Local/Programs/Python/Python310/lib/site-packages/speech_recognition/__init__.py?line=855'>856</a>\u001b[0m \u001b[39m# return results\u001b[39;00m\n\u001b[0;32m    <a href='file:///~/AppData/Local/Programs/Python/Python310/lib/site-packages/speech_recognition/__init__.py?line=856'>857</a>\u001b[0m \u001b[39mif\u001b[39;00m show_all: \u001b[39mreturn\u001b[39;00m actual_result\n\u001b[1;32m--> <a href='file:///~/AppData/Local/Programs/Python/Python310/lib/site-packages/speech_recognition/__init__.py?line=857'>858</a>\u001b[0m \u001b[39mif\u001b[39;00m \u001b[39mnot\u001b[39;00m \u001b[39misinstance\u001b[39m(actual_result, \u001b[39mdict\u001b[39m) \u001b[39mor\u001b[39;00m \u001b[39mlen\u001b[39m(actual_result\u001b[39m.\u001b[39mget(\u001b[39m\"\u001b[39m\u001b[39malternative\u001b[39m\u001b[39m\"\u001b[39m, [])) \u001b[39m==\u001b[39m \u001b[39m0\u001b[39m: \u001b[39mraise\u001b[39;00m UnknownValueError()\n\u001b[0;32m    <a href='file:///~/AppData/Local/Programs/Python/Python310/lib/site-packages/speech_recognition/__init__.py?line=859'>860</a>\u001b[0m \u001b[39mif\u001b[39;00m \u001b[39m\"\u001b[39m\u001b[39mconfidence\u001b[39m\u001b[39m\"\u001b[39m \u001b[39min\u001b[39;00m actual_result[\u001b[39m\"\u001b[39m\u001b[39malternative\u001b[39m\u001b[39m\"\u001b[39m]:\n\u001b[0;32m    <a href='file:///~/AppData/Local/Programs/Python/Python310/lib/site-packages/speech_recognition/__init__.py?line=860'>861</a>\u001b[0m     \u001b[39m# return alternative with highest confidence score\u001b[39;00m\n\u001b[0;32m    <a href='file:///~/AppData/Local/Programs/Python/Python310/lib/site-packages/speech_recognition/__init__.py?line=861'>862</a>\u001b[0m     best_hypothesis \u001b[39m=\u001b[39m \u001b[39mmax\u001b[39m(actual_result[\u001b[39m\"\u001b[39m\u001b[39malternative\u001b[39m\u001b[39m\"\u001b[39m], key\u001b[39m=\u001b[39m\u001b[39mlambda\u001b[39;00m alternative: alternative[\u001b[39m\"\u001b[39m\u001b[39mconfidence\u001b[39m\u001b[39m\"\u001b[39m])\n",
      "\u001b[1;31mUnknownValueError\u001b[0m: "
     ]
    }
   ],
   "source": [
    "with sr.Microphone() as source2:\n",
    "    r.adjust_for_ambient_noise(source2, duration=0.2)\n",
    "    audio2 = r.listen(source2)\n",
    "    MyText = r.recognize_google(audio2)\n",
    "    MyText = MyText.lower()\n",
    "\n",
    "    print(\" Did you say \" + MyText)\n",
    "    SpeakText(MyText)"
   ]
  }
 ],
 "metadata": {
  "interpreter": {
   "hash": "1b81d21ae8dc55242339ceb0974ffea5447f59f0c3904e3902d18e1b52dc196b"
  },
  "kernelspec": {
   "display_name": "Python 3.10.2 64-bit",
   "language": "python",
   "name": "python3"
  },
  "language_info": {
   "codemirror_mode": {
    "name": "ipython",
    "version": 3
   },
   "file_extension": ".py",
   "mimetype": "text/x-python",
   "name": "python",
   "nbconvert_exporter": "python",
   "pygments_lexer": "ipython3",
   "version": "3.10.2"
  },
  "orig_nbformat": 4
 },
 "nbformat": 4,
 "nbformat_minor": 2
}
